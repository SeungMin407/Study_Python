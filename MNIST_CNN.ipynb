{
  "nbformat": 4,
  "nbformat_minor": 0,
  "metadata": {
    "colab": {
      "provenance": [],
      "gpuType": "T4"
    },
    "kernelspec": {
      "name": "python3",
      "display_name": "Python 3"
    },
    "language_info": {
      "name": "python"
    },
    "accelerator": "GPU"
  },
  "cells": [
    {
      "cell_type": "markdown",
      "source": [
        "1. 모듈 불러오기\n",
        "2. dtype, device, batch_size 설정\n",
        "3. 데이터 로드(필요 시 전처리)"
      ],
      "metadata": {
        "id": "OB1jdQelnFiT"
      }
    },
    {
      "cell_type": "code",
      "execution_count": 18,
      "metadata": {
        "id": "Go5m-9AEbnqr"
      },
      "outputs": [],
      "source": [
        "import torch\n",
        "import torch.nn as nn\n",
        "import torch.nn.functional as F\n",
        "from torch.utils.data import DataLoader\n",
        "from torchvision import datasets, transforms\n",
        "import matplotlib.pyplot as plt\n",
        "import numpy as np\n",
        "dtype = torch.float\n",
        "device = torch.device(\"cuda\") if torch.cuda.is_available() else torch.device(\"cpu\")\n",
        "# 데이터 로드\n",
        "batch_size = 128\n",
        "data_path = '/tmp/data/mnist'\n",
        "transform = transforms.Compose([\n",
        "    transforms.Resize((28, 28)),\n",
        "    transforms.Grayscale(),\n",
        "    transforms.ToTensor(),\n",
        "    transforms.Normalize((0,), (1,))\n",
        "])\n",
        "mnist_train = datasets.MNIST(data_path, train=True, download=True, transform=transform)\n",
        "mnist_test = datasets.MNIST(data_path, train=False, download=True, transform=transform)\n",
        "train_loader = DataLoader(mnist_train, batch_size=batch_size, shuffle=True, drop_last=True) #배치 단위 이터러블 데이터 생성\n",
        "test_loader = DataLoader(mnist_test, batch_size=batch_size, shuffle=True, drop_last=True)"
      ]
    },
    {
      "cell_type": "code",
      "source": [
        "data, targets = next(iter(train_loader))\n",
        "data = data.to(device)\n",
        "targets = targets.to(device)\n",
        "plt.imshow(data[0].cpu().squeeze(), cmap='gray')\n",
        "plt.show()\n",
        "print(data.shape)"
      ],
      "metadata": {
        "colab": {
          "base_uri": "https://localhost:8080/",
          "height": 448
        },
        "id": "578psKjbgXuG",
        "outputId": "3f68f997-3c6a-404a-fb94-0708cff37b51"
      },
      "execution_count": 27,
      "outputs": [
        {
          "output_type": "display_data",
          "data": {
            "text/plain": [
              "<Figure size 640x480 with 1 Axes>"
            ],
            "image/png": "[encoded data removed]"
          },
          "metadata": {}
        },
        {
          "output_type": "stream",
          "name": "stdout",
          "text": [
            "torch.Size([128, 1, 28, 28])\n"
          ]
        }
      ]
    },
    {
      "cell_type": "markdown",
      "source": [
        "4. 모델, 손실, 옵티마이저 정의"
      ],
      "metadata": {
        "id": "Uh5yUcLFncDP"
      }
    },
    {
      "cell_type": "code",
      "source": [
        "class Net(nn.Module):\n",
        "    def __init__(self):\n",
        "        super().__init__()\n",
        "        self.conv1 = nn.Conv2d(1, 32, kernel_size=3, padding=1)\n",
        "        self.conv2 = nn.Conv2d(32, 64, kernel_size=3, padding=1)\n",
        "        self.fc1 = nn.Linear(64*7*7, 10)\n",
        "\n",
        "    def forward(self, x):\n",
        "        x = F.relu(F.max_pool2d(self.conv1(x), 2))  # (batch, 32, 14, 14)\n",
        "        x = F.relu(F.max_pool2d(self.conv2(x), 2))  # (batch, 64, 7, 7)\n",
        "        x = x.view(x.size(0), -1)                    # (batch, 64*7*7)\n",
        "        x = self.fc1(x)                              # (batch, 10)\n",
        "        return x\n",
        "\n",
        "#net, loss, optimizer 정의\n",
        "net = Net().to(device)\n",
        "loss_fn=nn.CrossEntropyLoss() #모델 출력이 클래스 별 점수(확률 값)으로 나올 때\n",
        "optimizer=torch.optim.Adam(net.parameters(),lr=0.001)"
      ],
      "metadata": {
        "id": "rFrthNr8dzdk"
      },
      "execution_count": 36,
      "outputs": []
    },
    {
      "cell_type": "code",
      "source": [
        "#정확도 plot 위한 함수\n",
        "def batch_accuracy(train_loader, net):\n",
        "  with torch.no_grad():\n",
        "    total = 0\n",
        "    correct = 0\n",
        "    acc = 0\n",
        "    net.eval()\n",
        "\n",
        "    train_loader = iter(train_loader)\n",
        "    for data, targets in train_loader:\n",
        "      data = data.to(device)\n",
        "      targets = targets.to(device)\n",
        "      outputs = net(data) #[batch, 10]\n",
        "      _, predicted = torch.max(outputs.data, 1) #가장 큰 확률 값 == 예측 값\n",
        "      #맞춘 개수를 배치 수로 나눠 정확도 측정\n",
        "      total += targets.size(0)\n",
        "      correct += (predicted == targets).sum().item()\n",
        "\n",
        "  return correct / total"
      ],
      "metadata": {
        "id": "WHG37c-kiPE1"
      },
      "execution_count": 42,
      "outputs": []
    },
    {
      "cell_type": "markdown",
      "source": [
        "5. 학습"
      ],
      "metadata": {
        "id": "86ARyqCpnwH2"
      }
    },
    {
      "cell_type": "code",
      "source": [
        "from tqdm import tqdm\n",
        "\n",
        "num_epochs = 1\n",
        "loss_hist = []\n",
        "test_acc_hist = []\n",
        "counter = 0\n",
        "\n",
        "for epoch in range(num_epochs):\n",
        "    net.train()  # 학습 모드 전환\n",
        "    running_loss = 0.0\n",
        "\n",
        "    # tqdm으로 진행도 표시\n",
        "    progress_bar = tqdm(train_loader, desc=f\"Epoch {epoch+1}/{num_epochs}\", leave=False)\n",
        "\n",
        "    for data, targets in progress_bar:\n",
        "        data, targets = data.to(device), targets.to(device)\n",
        "\n",
        "        # 순전파\n",
        "        outputs = net(data)\n",
        "        loss_val = loss_fn(outputs, targets)\n",
        "\n",
        "        # 역전파 및 가중치 업데이트\n",
        "        optimizer.zero_grad()\n",
        "        loss_val.backward()\n",
        "        optimizer.step()\n",
        "\n",
        "        # 손실 누적\n",
        "        running_loss += loss_val.item()\n",
        "\n",
        "        # 진행도바에 현재 배치 손실 표시\n",
        "        progress_bar.set_postfix(loss=f\"{loss_val.item():.4f}\")\n",
        "\n",
        "    # 평균 손실 계산\n",
        "    avg_loss = running_loss / len(train_loader)\n",
        "    loss_hist.append(avg_loss)\n",
        "\n",
        "    # 에포크 종료 후 테스트 정확도 평가\n",
        "    with torch.no_grad():\n",
        "        net.eval()\n",
        "        test_acc = batch_accuracy(test_loader, net)\n",
        "        test_acc_hist.append(test_acc)\n",
        "        print(f\"[Epoch {epoch+1}/{num_epochs}] Loss: {avg_loss:.4f}, Test Accuracy: {test_acc*100:.2f}%\")\n"
      ],
      "metadata": {
        "colab": {
          "base_uri": "https://localhost:8080/"
        },
        "id": "60jy7IsXf_rV",
        "outputId": "41b6b757-eb52-431c-b98f-ba187f411444"
      },
      "execution_count": 44,
      "outputs": [
        {
          "output_type": "stream",
          "name": "stderr",
          "text": []
        },
        {
          "output_type": "stream",
          "name": "stdout",
          "text": [
            "[Epoch 1/1] Loss: 0.0344, Test Accuracy: 98.80%\n"
          ]
        }
      ]
    },
    {
      "cell_type": "markdown",
      "source": [
        "6. 테스트"
      ],
      "metadata": {
        "id": "hLdM7Yx5n00w"
      }
    },
    {
      "cell_type": "code",
      "source": [
        "import random\n",
        "import torch\n",
        "\n",
        "# test_loader에서 한 배치 불러오기\n",
        "data_iter = iter(test_loader)\n",
        "images, labels = next(data_iter)\n",
        "\n",
        "# 무작위로 하나의 인덱스 선택\n",
        "idx = random.randint(0, len(images) - 1)\n",
        "image = images[idx].unsqueeze(0).to(device)  # 모델에 입력하기 위해 [1, 1, 28, 28] 형태로 변환\n",
        "label = labels[idx].item()\n",
        "\n",
        "# 모델 예측\n",
        "net.eval()\n",
        "with torch.no_grad():\n",
        "    output = net(image)\n",
        "    _, predicted = torch.max(output.data, 1)\n",
        "    predicted_label = predicted.item()\n",
        "\n",
        "print(\"===== 단일 테스트 결과 =====\")\n",
        "plt.imshow(images[idx].squeeze().cpu(), cmap='gray')\n",
        "plt.title(f\"Label: {label}, Pred: {predicted_label}\")\n",
        "plt.axis('off')\n",
        "plt.show()\n"
      ],
      "metadata": {
        "colab": {
          "base_uri": "https://localhost:8080/",
          "height": 446
        },
        "id": "rgTVuj4OmwG8",
        "outputId": "b7ede909-dc04-4c7f-eabd-7ae457926c28"
      },
      "execution_count": 47,
      "outputs": [
        {
          "output_type": "stream",
          "name": "stdout",
          "text": [
            "===== 단일 테스트 결과 =====\n"
          ]
        },
        {
          "output_type": "display_data",
          "data": {
            "text/plain": [
              "<Figure size 640x480 with 1 Axes>"
            ],
            "image/png": "[encoded data removed]"
          },
          "metadata": {}
        }
      ]
    }
  ]
}